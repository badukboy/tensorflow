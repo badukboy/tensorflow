{
 "cells": [
  {
   "cell_type": "markdown",
   "metadata": {},
   "source": [
    "# Neural Network - Multi Layer"
   ]
  },
  {
   "cell_type": "code",
   "execution_count": 1,
   "metadata": {
    "collapsed": true
   },
   "outputs": [],
   "source": [
    "import numpy as np\n",
    "import tensorflow as tf"
   ]
  },
  {
   "cell_type": "markdown",
   "metadata": {},
   "source": [
    "------------------------------------------------------------\n",
    "## 1. Data (mnist)\n"
   ]
  },
  {
   "cell_type": "code",
   "execution_count": 2,
   "metadata": {
    "collapsed": false
   },
   "outputs": [
    {
     "name": "stdout",
     "output_type": "stream",
     "text": [
      "Extracting C:/Users/06411/tmp/data/train-images-idx3-ubyte.gz\n",
      "Extracting C:/Users/06411/tmp/data/train-labels-idx1-ubyte.gz\n",
      "Extracting C:/Users/06411/tmp/data/t10k-images-idx3-ubyte.gz\n",
      "Extracting C:/Users/06411/tmp/data/t10k-labels-idx1-ubyte.gz\n"
     ]
    }
   ],
   "source": [
    "from tensorflow.examples.tutorials.mnist import input_data\n",
    "mnist = input_data.read_data_sets(\"C:/Users/06411/tmp/data/\", one_hot=True)"
   ]
  },
  {
   "cell_type": "markdown",
   "metadata": {},
   "source": [
    "------------------------------------------------------------\n",
    "## 2. Multi Layer\n",
    "\n",
    "### 2-1. Hyper-parameter"
   ]
  },
  {
   "cell_type": "code",
   "execution_count": 3,
   "metadata": {
    "collapsed": true
   },
   "outputs": [],
   "source": [
    "training_epochs = 25\n",
    "batch_size      = 100\n",
    "learning_rate   = 0.001\n",
    "display_step    = 1"
   ]
  },
  {
   "cell_type": "markdown",
   "metadata": {},
   "source": [
    "### 2-2. Input"
   ]
  },
  {
   "cell_type": "code",
   "execution_count": 4,
   "metadata": {
    "collapsed": true
   },
   "outputs": [],
   "source": [
    "x = tf.placeholder(\"float\", [None, 784])\n",
    "y = tf.placeholder(\"float\", [None, 10])"
   ]
  },
  {
   "cell_type": "markdown",
   "metadata": {},
   "source": [
    "### 2-3. Variables \n",
    "\n",
    "### Weight"
   ]
  },
  {
   "cell_type": "code",
   "execution_count": 5,
   "metadata": {
    "collapsed": true
   },
   "outputs": [],
   "source": [
    "## For ReLU Layer\n",
    "\n",
    "def xavier_init(n_inputs, n_outputs, uniform = True):\n",
    "    if uniform:\n",
    "        init_range = tf.sqrt(6.0 / (n_inputs + n_outputs))\n",
    "        return tf.random_uniform_initializer(-init_range, init_range)\n",
    "    else:\n",
    "        stddev = tf.sqrt(3.0 / (n_inputs + n_outputs))\n",
    "        return tf.truncated_normal_initializer(stddev = stddev)"
   ]
  },
  {
   "cell_type": "code",
   "execution_count": 6,
   "metadata": {
    "collapsed": true
   },
   "outputs": [],
   "source": [
    "# W1 = tf.Variable(tf.random_normal([784, 256]))\n",
    "# W2 = tf.Variable(tf.random_normal([256, 256]))\n",
    "# W3 = tf.Variable(tf.random_normal([256,  10]))\n",
    "\n",
    "W1 = tf.get_variable(\"W1\", shape = [784, 256], initializer = xavier_init(784, 256))\n",
    "W2 = tf.get_variable(\"W2\", shape = [256, 256], initializer = xavier_init(256, 256))\n",
    "W3 = tf.get_variable(\"W3\", shape = [256,  85], initializer = xavier_init(256,  85))\n",
    "W4 = tf.get_variable(\"W4\", shape = [85,   28], initializer = xavier_init(85,   28))\n",
    "W5 = tf.get_variable(\"W5\", shape = [28,   10], initializer = xavier_init(28,   10))"
   ]
  },
  {
   "cell_type": "markdown",
   "metadata": {},
   "source": [
    "### bias"
   ]
  },
  {
   "cell_type": "code",
   "execution_count": 7,
   "metadata": {
    "collapsed": true
   },
   "outputs": [],
   "source": [
    "b1 = tf.Variable(tf.random_normal([256]))\n",
    "b2 = tf.Variable(tf.random_normal([256]))\n",
    "b3 = tf.Variable(tf.random_normal([85]))\n",
    "b4 = tf.Variable(tf.random_normal([28]))\n",
    "b5 = tf.Variable(tf.random_normal([10]))"
   ]
  },
  {
   "cell_type": "markdown",
   "metadata": {},
   "source": [
    "### 2-4. Modeling ( + dropout)"
   ]
  },
  {
   "cell_type": "code",
   "execution_count": 8,
   "metadata": {
    "collapsed": true
   },
   "outputs": [],
   "source": [
    "dropout_rate = tf.placeholder(\"float\")\n",
    "\n",
    "_L1 = tf.nn.relu(tf.add(tf.matmul(x,  W1), b1))\n",
    "L1  = tf.nn.dropout(_L1, dropout_rate)\n",
    "\n",
    "_L2 = tf.nn.relu(tf.add(tf.matmul(L1, W2), b2))\n",
    "L2  = tf.nn.dropout(_L2, dropout_rate)\n",
    "\n",
    "_L3 = tf.nn.relu(tf.add(tf.matmul(L2, W3), b3))\n",
    "L3  = tf.nn.dropout(_L3, dropout_rate)\n",
    "\n",
    "_L4 = tf.nn.relu(tf.add(tf.matmul(L3, W4), b4))\n",
    "L4  = tf.nn.dropout(_L4, dropout_rate)\n",
    "\n",
    "hypothesis = tf.add(tf.matmul(L4, W5), b5)"
   ]
  },
  {
   "cell_type": "markdown",
   "metadata": {},
   "source": [
    "### 2-5. Optimization (Adam)"
   ]
  },
  {
   "cell_type": "code",
   "execution_count": 9,
   "metadata": {
    "collapsed": true
   },
   "outputs": [],
   "source": [
    "cost      = tf.reduce_mean(tf.nn.softmax_cross_entropy_with_logits(logits = hypothesis, labels = y))\n",
    "optimizer = tf.train.AdamOptimizer(learning_rate = learning_rate).minimize(cost)"
   ]
  },
  {
   "cell_type": "markdown",
   "metadata": {},
   "source": [
    "### 2-6. tf.Session"
   ]
  },
  {
   "cell_type": "code",
   "execution_count": 10,
   "metadata": {
    "collapsed": false
   },
   "outputs": [
    {
     "name": "stdout",
     "output_type": "stream",
     "text": [
      "Epoch:  0001 cost:  0.848266140\n",
      "Epoch:  0002 cost:  0.319201443\n",
      "Epoch:  0003 cost:  0.233773562\n",
      "Epoch:  0004 cost:  0.193970909\n",
      "Epoch:  0005 cost:  0.167831063\n",
      "Epoch:  0006 cost:  0.144860394\n",
      "Epoch:  0007 cost:  0.135572017\n",
      "Epoch:  0008 cost:  0.120552780\n",
      "Epoch:  0009 cost:  0.114855470\n",
      "Epoch:  0010 cost:  0.109902524\n",
      "Epoch:  0011 cost:  0.103506947\n",
      "Epoch:  0012 cost:  0.092330760\n",
      "Epoch:  0013 cost:  0.088136330\n",
      "Epoch:  0014 cost:  0.082558322\n",
      "Epoch:  0015 cost:  0.079261278\n",
      "Epoch:  0016 cost:  0.079158922\n",
      "Epoch:  0017 cost:  0.080147206\n",
      "Epoch:  0018 cost:  0.074454573\n",
      "Epoch:  0019 cost:  0.068936523\n",
      "Epoch:  0020 cost:  0.067167557\n",
      "Epoch:  0021 cost:  0.068917945\n",
      "Epoch:  0022 cost:  0.062487079\n",
      "Epoch:  0023 cost:  0.062980401\n",
      "Epoch:  0024 cost:  0.055665054\n",
      "Epoch:  0025 cost:  0.056085816\n",
      "Optimization DONE!\n",
      "==========================================================\n",
      "Accuracy:  0.9802\n",
      "==========================================================\n"
     ]
    }
   ],
   "source": [
    "init = tf.global_variables_initializer()\n",
    "with tf.Session() as sess:\n",
    "    sess.run(init)\n",
    "\n",
    "    for epoch in range(training_epochs):\n",
    "        ## mini batch\n",
    "        avg_cost = 0.\n",
    "        total_batch = int(mnist.train.num_examples / batch_size)\n",
    "\n",
    "        ## mini batch training\n",
    "        for i in range(total_batch):\n",
    "            batch_xs, batch_ys = mnist.train.next_batch(batch_size)\n",
    "            sess.run(optimizer,\n",
    "                     feed_dict = {x:batch_xs, y:batch_ys, dropout_rate:0.7}) ## 30% drop\n",
    "            avg_cost += sess.run(cost, feed_dict = {x:batch_xs, y:batch_ys, dropout_rate:0.7}) / total_batch\n",
    "\n",
    "        ## log print\n",
    "        if epoch % display_step == 0:\n",
    "            print(\"Epoch: \", '%04d' % (epoch + 1), \"cost: \", \"{:.9f}\".format(avg_cost))\n",
    "\n",
    "    print(\"Optimization DONE!\")\n",
    "    print(\"==========================================================\")\n",
    "\n",
    "    \n",
    "    ## test\n",
    "    correct_prediction = tf.equal(tf.argmax(hypothesis, 1), tf.argmax(y, 1))\n",
    "    accuracy = tf.reduce_mean(tf.cast(correct_prediction, \"float\"))\n",
    "    print(\"Accuracy: \", accuracy.eval({x:mnist.test.images,\n",
    "                                       y:mnist.test.labels,\n",
    "                                       dropout_rate:1}))  ## drop 없음\n",
    "    print(\"==========================================================\")"
   ]
  },
  {
   "cell_type": "markdown",
   "metadata": {},
   "source": [
    "--------------------------------------------------------------------------------\n",
    "\n",
    "*End of Code*"
   ]
  }
 ],
 "metadata": {
  "kernelspec": {
   "display_name": "Python [default]",
   "language": "python",
   "name": "python3"
  },
  "language_info": {
   "codemirror_mode": {
    "name": "ipython",
    "version": 3
   },
   "file_extension": ".py",
   "mimetype": "text/x-python",
   "name": "python",
   "nbconvert_exporter": "python",
   "pygments_lexer": "ipython3",
   "version": "3.5.2"
  }
 },
 "nbformat": 4,
 "nbformat_minor": 2
}
